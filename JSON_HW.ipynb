{
 "cells": [
  {
   "cell_type": "code",
   "execution_count": 16,
   "metadata": {},
   "outputs": [],
   "source": [
    "import json\n",
    "json_data = '[{\"name\": \"John\", \"age\": 22}, {\"name\": \"Jane\", \"age\": 23}]'\n",
    "python_object = json.loads(json_data)"
   ]
  },
  {
   "cell_type": "code",
   "execution_count": 18,
   "metadata": {},
   "outputs": [],
   "source": [
    "python_obj = [{\"name\": \"John\", \"age\": 22}, {\"name\": \"Jane\", \"age\": 23}]\n",
    "json_data = json.dumps(python_obj)"
   ]
  },
  {
   "cell_type": "code",
   "execution_count": 17,
   "metadata": {},
   "outputs": [
    {
     "name": "stdout",
     "output_type": "stream",
     "text": [
      "{\"name\": \"John\", \"age\": 22, \"grade\": 85}\n"
     ]
    }
   ],
   "source": [
    "python_obj = {\"name\": \"John\", \"age\": 22, \"grade\": 85}\n",
    "json_string = json.dumps(python_obj)\n",
    "print(json_string)"
   ]
  },
  {
   "cell_type": "code",
   "execution_count": 19,
   "metadata": {},
   "outputs": [
    {
     "name": "stdout",
     "output_type": "stream",
     "text": [
      "{\n",
      "    \"age\": 22,\n",
      "    \"grade\": 85,\n",
      "    \"name\": \"John\"\n",
      "}\n"
     ]
    }
   ],
   "source": [
    "python_dict = {\"name\": \"John\", \"age\": 22, \"grade\": 85}\n",
    "json_string = json.dumps(python_dict, indent=4, sort_keys=True)\n",
    "print(json_string)"
   ]
  },
  {
   "cell_type": "code",
   "execution_count": 20,
   "metadata": {},
   "outputs": [],
   "source": [
    "json_data = '{\"name\": \"John\", \"age\": 22, \"grade\": 85}'\n",
    "python_object = json.loads(json_data)"
   ]
  },
  {
   "cell_type": "code",
   "execution_count": 21,
   "metadata": {},
   "outputs": [],
   "source": [
    "with open(\"source.json\", \"w\") as source_file:\n",
    "    json.dump(python_obj, source_file)\n",
    "with open(\"source.json\", \"r\") as source_file, open(\"new_file.json\", \"w\") as new_file:\n",
    "    json_data = json.load(source_file)\n",
    "    json.dump(json_data, new_file)"
   ]
  },
  {
   "cell_type": "markdown",
   "metadata": {},
   "source": [
    "Name - Name of the k-drama \n",
    "Aired Date - The date of realese \n",
    "Year of Release - Year when the movie was released\n",
    "Original Network - Original platform of the k-drama \n",
    "Aired on - Days of the week when new episodes released \n",
    "Number of episodes - Number of episodes in the k-drama\n",
    "Duration -  Duration of 1 episode \n",
    "Content Rating - Age restriction of k-drama\n",
    "Rating - Rating of k-drama\n",
    "Synopsis - Brief descriprition of k-drama\n",
    "Genre\t- Genre of k-drama\n",
    "Tags - Frequently used tags to find the k-drama\n",
    "Director - The name of Director of k-drama\n",
    "Screenwriter - The name of Screenwriter\n",
    "Cast - The lisf of the main actors in k-drama\n",
    "Production companies - Main producer (company) of k-drama\n",
    "Rank - Rank of k-drama "
   ]
  },
  {
   "cell_type": "code",
   "execution_count": 24,
   "metadata": {},
   "outputs": [],
   "source": [
    "import cmath\n",
    "instance = 5 + 3j\n",
    "is_complex = isinstance(instance, complex)"
   ]
  },
  {
   "cell_type": "code",
   "execution_count": 23,
   "metadata": {},
   "outputs": [],
   "source": [
    "json_string = '{\"number\": \"5+3j\"}'\n",
    "contains_complex = \"j\" in json_string"
   ]
  },
  {
   "cell_type": "code",
   "execution_count": 22,
   "metadata": {},
   "outputs": [],
   "source": [
    "python_obj = [{\"name\": \"John\", \"age\": 22}, {\"name\": \"Jane\", \"age\": 23}, {\"name\": \"John\", \"age\": 22}]\n",
    "unique_values = {frozenset(item.items()) for item in python_obj}\n",
    "unique_dicts = [dict(items) for items in unique_values]"
   ]
  }
 ],
 "metadata": {
  "kernelspec": {
   "display_name": "Python 3",
   "language": "python",
   "name": "python3"
  },
  "language_info": {
   "codemirror_mode": {
    "name": "ipython",
    "version": 3
   },
   "file_extension": ".py",
   "mimetype": "text/x-python",
   "name": "python",
   "nbconvert_exporter": "python",
   "pygments_lexer": "ipython3",
   "version": "3.9.6"
  }
 },
 "nbformat": 4,
 "nbformat_minor": 2
}
